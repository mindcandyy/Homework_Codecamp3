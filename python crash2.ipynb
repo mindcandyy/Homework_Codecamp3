{
 "cells": [
  {
   "cell_type": "code",
   "execution_count": 3,
   "metadata": {},
   "outputs": [
    {
     "name": "stdout",
     "output_type": "stream",
     "text": [
      "3\n",
      "เลขคี่\n"
     ]
    }
   ],
   "source": [
    "#1 รับ1ตัว ตรวจเลขคู่คี่หรือศูนย์\n",
    "x = int(input())\n",
    "if x%2==0:\n",
    "    print(\"เลขคู่\")\n",
    "elif x%2==1:\n",
    "    print(\"เลขคี่\")\n",
    "elif x==0:\n",
    "    print(\"เลขศูนย์\")"
   ]
  },
  {
   "cell_type": "code",
   "execution_count": 7,
   "metadata": {},
   "outputs": [
    {
     "name": "stdout",
     "output_type": "stream",
     "text": [
      "2\n",
      "0\n",
      "0\n",
      "0\n",
      "0\n",
      "1\n",
      "2.0\n"
     ]
    }
   ],
   "source": [
    "#2 รับfloat2ตัว ตัวแรกเปนตัวตั้ง ตัวสองเปนตัวหาร ถ้าตัวหารเปน0ให้รับค่าใหม่จนกว่าจะเปนเลขที่หารได้ \n",
    "a = float(input())\n",
    "b = float(input())\n",
    "while b==0:\n",
    "    b = float(input())\n",
    "else:\n",
    "    print(a/b)\n"
   ]
  },
  {
   "cell_type": "code",
   "execution_count": 36,
   "metadata": {},
   "outputs": [
    {
     "name": "stdout",
     "output_type": "stream",
     "text": [
      "Put a number: 1\n",
      "Put a number: 2\n",
      "2\n",
      "Put a number: 3\n",
      "3\n",
      "Put a number: 0\n",
      "0\n",
      "1.6666666666666667\n"
     ]
    }
   ],
   "source": [
    "## 3เขียน infinity while loop รับinputเรื่อยๆจนกว่าจะใส่เลข0แล้วค่อยหาค่าเฉลี่ย\n",
    "\n",
    "sum=0\n",
    "count=0\n",
    "num = int(input(\"Put a number: \"))\n",
    "while (num!=0):\n",
    "    num = int(input(\"Put a number: \"))\n",
    "    print(num)\n",
    "    sum += num\n",
    "    count+=1\n",
    "print(sum/count)"
   ]
  },
  {
   "cell_type": "code",
   "execution_count": 10,
   "metadata": {},
   "outputs": [
    {
     "name": "stdout",
     "output_type": "stream",
     "text": [
      "7\n",
      "หาร7ลงตัว\n"
     ]
    }
   ],
   "source": [
    "#4 รับ interger 1 ตัว ตรวจว่าหาร7ลงตัวไหม\n",
    "d = int(input())\n",
    "if d%7==0:\n",
    "    print(\"หาร7ลงตัว\")\n",
    "else:\n",
    "    print(\"หาร7ไม่ลงตัว\")"
   ]
  },
  {
   "cell_type": "code",
   "execution_count": 38,
   "metadata": {},
   "outputs": [
    {
     "name": "stdout",
     "output_type": "stream",
     "text": [
      "3\n",
      "4\n",
      "5\n",
      "ได้\n"
     ]
    }
   ],
   "source": [
    "#5 รับint 3 จำนวน ตรวจว่าสร้าง3เหลี่ยมมุมฉากได้ไหม\n",
    "x1=int(input())\n",
    "x2=int(input())\n",
    "x3=int(input())\n",
    "\n",
    "if (x1**2)+(x2**2)==(x3**2):\n",
    "    print(\"ได้\")\n",
    "elif (x**2)+(x**3)==(x**1):\n",
    "    print(\"ได้\")\n",
    "elif (x**3)+(x**1)==(x**2):\n",
    "    print(\"ได้\")\n",
    "else:\n",
    "    print(\"ไม่ได้\")"
   ]
  },
  {
   "cell_type": "code",
   "execution_count": 43,
   "metadata": {},
   "outputs": [
    {
     "name": "stdout",
     "output_type": "stream",
     "text": [
      "2\n",
      "3\n",
      "4\n",
      "สามเหลี่ยมมุมแหลม\n"
     ]
    }
   ],
   "source": [
    "#6 เขียนโปรแกรมรับค่า int มา 3 จำนวน และตรวจสอบว่าเมื่อนำ 3 เลข\n",
    "#นั้นมาสร้าง 3 เหลี่ยม จะได้สามเหลี่ยมแบบใด\n",
    "a=int(input())\n",
    "b=int(input())\n",
    "c=int(input())\n",
    "maxx = max(a,b,c)\n",
    "minn = min(a,b,c)\n",
    "z = a+b+c-(maxx+minn)\n",
    "if (maxx**2)+(minn**2) == (z**2):\n",
    "    print(\"สามเหลี่ยมมุมฉาก\")\n",
    "elif (maxx**2)+(minn**2)<(z**2):\n",
    "    print(\"สามเหลี่ยมมุมป้าน\")\n",
    "elif (maxx**2)+(minn**2)>(z**2):\n",
    "    print(\"สามเหลี่ยมมุมแหลม\")\n",
    "else:\n",
    "    print(\"สร้างสามเหลี่ยมไม่ได้\")\n"
   ]
  },
  {
   "cell_type": "code",
   "execution_count": 20,
   "metadata": {},
   "outputs": [
    {
     "name": "stdout",
     "output_type": "stream",
     "text": [
      "2000\n",
      "2000\n",
      "4000\n",
      "6800.0\n"
     ]
    }
   ],
   "source": [
    "#7 เขียนโปรแกรมให้รับค่าอาหาร 3 ครั้งที่ไปทานอาหารนอกบ้านล่าสุด\n",
    "#ดยแต่ละครั้งต้องไม่ต่ำกว่า 1,000 และไม่เกิน 5,000 (ผู้ใช้ต้องใส่อยู่ใน\n",
    "#ช่วงนี้) และนำค่าอาหารทั้ง 3 ครั้งมาบวกกัน หากเกิน 6,000 บาท จะได้\n",
    "#รับส่วนลด 15% หากเกิน 12,000 จะได้รับส่วนลด 25% จงหายอดเงิน\n",
    "#สุดท้ายที่ต้องจ่าย\n",
    "\n",
    "sum = 0\n",
    "for i in range(3):\n",
    "    x = int(input())\n",
    "    if x>=1000 and x<=5000:\n",
    "        sum += x\n",
    "    if sum>6000 and sum<12000:\n",
    "            result=0.85*sum\n",
    "    elif sum>=12000:\n",
    "            result=(0.75*sum)\n",
    "print(result)\n"
   ]
  },
  {
   "cell_type": "code",
   "execution_count": 21,
   "metadata": {},
   "outputs": [
    {
     "name": "stdout",
     "output_type": "stream",
     "text": [
      "2000\n",
      "2000\n",
      "3000\n",
      "4000\n",
      "3400.0\n"
     ]
    }
   ],
   "source": [
    "#8 เขียนโปรแกรมให้รับค่าอาหาร 4 ครั้งที่ไปทานอาหารนอกบ้านล่าสุด\n",
    "#โดยแต่ละครั้งต้องไม่ต่ำกว่า 1,000 และไม่เกิน 5,000 (ผู้ใช้ต้องใส่อยู่ใน\n",
    "#ช่วงนี้) และนำค่าอาหาร 3 ครั้งแรกมาบวกกัน หากเกิน 6,000 บาท จะได้\n",
    "#รับส่วนลด 15% หากเกิน 12,000 จะได้รับส่วนลด 25% ของมื้อที่ 4 จง\n",
    "#หายอดเงินสุดท้ายที่ต้องจ่ายของมื้อที่ 4\n",
    "sum = 0\n",
    "for i in range(3):\n",
    "    x = int(input())\n",
    "    if x>=1000 and x<=5000:\n",
    "        sum += x\n",
    "y = int(input())\n",
    "if sum>6000 and sum<12000:\n",
    "    result=0.85*y\n",
    "elif sum>=12000:\n",
    "    result=(0.75*y)\n",
    "print(result)\n"
   ]
  },
  {
   "cell_type": "code",
   "execution_count": 44,
   "metadata": {},
   "outputs": [
    {
     "name": "stdout",
     "output_type": "stream",
     "text": [
      "2000\n",
      "2000\n",
      "3000\n",
      "3000\n",
      "2100.0\n"
     ]
    }
   ],
   "source": [
    "#9. เขียนโปรแกรมให้รับค่าอาหาร 4 ครั้งที่ไปทานอาหารนอกบ้านล่าสุด\n",
    "#โดยแต่ละครั้งต้องไม่ต่ำกว่า 1,000 และไม่เกิน 5,000 (เขียนให้ผู้ใช้ใส่\n",
    "#ใหม่หากไม่อยู่ในช่วงที่กำหนด) และนำค่าอาหาร 3 ครั้งแรกมาบวกกัน\n",
    "#หากเกิน 4,000 บาท จะได้รับส่วนลด 25% หากเกิน 9,000 จะได้รับ\n",
    "#ส่วนลด 30% ของมื้อที่ 4 จงหายอดเงินสุดท้ายที่ต้องจ่ายของมื้อที่ 4\n",
    "\n",
    "sum = 0\n",
    "for i in range(3):\n",
    "    x = int(input())\n",
    "    if x>=1000 and x<=5000:\n",
    "        for j in range(3):\n",
    "            sum += x\n",
    "    else:\n",
    "        x=int(input())\n",
    "y=int(input())\n",
    "if sum>4000 and sum<=9000:\n",
    "    result=(0.75*y)\n",
    "elif sum>9000:\n",
    "    result=(0.70*y)\n",
    "print(result)\n",
    "\n"
   ]
  },
  {
   "cell_type": "code",
   "execution_count": 10,
   "metadata": {},
   "outputs": [
    {
     "name": "stdout",
     "output_type": "stream",
     "text": [
      "2000\n",
      "3000\n",
      "4000\n",
      "5000\n",
      "มีบัตรเครดิตหรือไม่(True/Fase): True\n",
      "3325.0\n"
     ]
    }
   ],
   "source": [
    "#10 เขียนโปรแกรมให้รับค่าอาหาร 4 ครั้งที่ไปทานอาหารนอกบ้านล่าสุด\n",
    "#โดยแต่ละครั้งต้องไม่ต่ำกว่า 1,000 และไม่เกิน 5,000 (เขียนให้ผู้ใช้ใส่\n",
    "#ใหม่หากไม่อยู่ในช่วงที่กำหนด) และถามผู้ใช้มีบัตรเครดิตหรือไม่\n",
    "#(True/False) นำค่าอาหาร 3 ครั้งแรกมาบวกกัน หากเกิน 4,000 บาท จะ\n",
    "#ได้รับส่วนลด 25% หากเกิน 9,000 จะได้รับส่วนลด 30% ของมื้อที่ 4\n",
    "#หากมีบัตรเครดิต ลดเพิ่มอีก 5% จงหายอดเงินสุดท้ายที่ต้องจ่ายของมื้อ\n",
    "#ที่ 4\n",
    "\n",
    "sum = 0\n",
    "for i in range(3):\n",
    "    x = int(input())\n",
    "    if x>=1000 and x<=5000:\n",
    "        for j in range(3):\n",
    "            sum += x\n",
    "    else:\n",
    "        x=int(input())\n",
    "y=int(input())\n",
    "credit = str(input(\"มีบัตรเครดิตหรือไม่(True/Fase): \"))\n",
    "if sum>4000 and sum<=9000:\n",
    "        result=(0.75*y)\n",
    "elif sum>9000:\n",
    "        result=(0.70*y)\n",
    "if credit==\"True\":\n",
    "    print(0.95*result)\n",
    "else:\n",
    "    print(result)\n",
    "    \n"
   ]
  },
  {
   "cell_type": "code",
   "execution_count": 16,
   "metadata": {},
   "outputs": [
    {
     "name": "stdout",
     "output_type": "stream",
     "text": [
      "คำภาษาอังกฤษไม่ต่ำกว่า7ตัวอักษร: as\n",
      "คำภาษาอังกฤษไม่ต่ำกว่า7ตัวอักษร: asd\n",
      "คำภาษาอังกฤษไม่ต่ำกว่า7ตัวอักษร: erg\n",
      "คำภาษาอังกฤษไม่ต่ำกว่า7ตัวอักษร: mindcandyy\n"
     ]
    }
   ],
   "source": [
    "#11 จงเขียนโปรแกรมรับ input ที่เป็นประโยคแบบ string ที่มีความยาว\n",
    "#ของคำไม่ต่ำกว่า 7 ตัวอักษรภาษาอังกฤษ(สมมติว่าเป็นคำเดียว) และมี\n",
    "#พิมพ์ใหญ่พิมพ์เล็กปนกัน จากนั้นให้ตรวจสอบแต่ละอักษร ให้แปลงพิมพ์\n",
    "#ใหญ่เป็นพิมพ์เล็ก และพิมพ์เล็กเป็นพิมพ์ใหญ่พร้อมกับปริ้นออกมา\n",
    "\n",
    "word = str(input(\"คำภาษาอังกฤษไม่ต่ำกว่า7ตัวอักษร: \"))\n",
    "while len(word)>7:\n",
    "    for i in word:\n",
    "        if i.islower():\n",
    "            print(i.upper())\n",
    "        elif i.isupper():\n",
    "            print(i.lower())\n",
    "while len(word)<7:\n",
    "    word = str(input(\"คำภาษาอังกฤษไม่ต่ำกว่า7ตัวอักษร: \"))\n"
   ]
  },
  {
   "cell_type": "code",
   "execution_count": 22,
   "metadata": {},
   "outputs": [
    {
     "name": "stdout",
     "output_type": "stream",
     "text": [
      "Enter a word: as\n",
      "Enter a word: asd\n",
      "Enter a word: d\n",
      "Enter a word: teeeee\n",
      "['d', 'as', 'asd', 'teeeee']\n"
     ]
    }
   ],
   "source": [
    "#12. เขียนโปรแกรมรับ input 4 ตัวที่เป็น string จากนั้นตรวจสอบว่า\n",
    "#input ใดมีความยาวมากที่สุด รองลงมา และน้อยที่สุด จากนั้น ปริ้นแต่ละ\n",
    "#input ออกมาตามลำดับน้อยสุดไปมากสุด\n",
    "\n",
    "a=str(input(\"Enter a word: \"))\n",
    "b=str(input(\"Enter a word: \"))\n",
    "c=str(input(\"Enter a word: \"))\n",
    "d=str(input(\"Enter a word: \"))\n",
    "word = [a,b,c,d]\n",
    "print(sorted(word, key=len))\n",
    "\n",
    "    \n",
    "        "
   ]
  },
  {
   "cell_type": "code",
   "execution_count": 23,
   "metadata": {},
   "outputs": [
    {
     "name": "stdout",
     "output_type": "stream",
     "text": [
      "hour: 2\n",
      "minute: 2\n",
      "304\n"
     ]
    }
   ],
   "source": [
    "#13. เขียนโปรแกรมรับ input สองตัวเป็นจำนวนเต็มระหว่าง 0-60 โดยตัว\n",
    "#แรกเป็นชั่วโมงและตัวที่สองเป็นนาที คำนวณค่าที่จอดรถถ้าชั่วโมงละ\n",
    "#150 บาท เศษนาทีคิดเป็นนาทีละ 2 บาท\n",
    "\n",
    "hr = int(input(\"hour: \"))\n",
    "minute = int(input(\"minute: \"))\n",
    "hr_cost = hr*150\n",
    "minute_cost = minute*2\n",
    "print(hr_cost+minute_cost)"
   ]
  },
  {
   "cell_type": "code",
   "execution_count": 27,
   "metadata": {},
   "outputs": [
    {
     "name": "stdout",
     "output_type": "stream",
     "text": [
      "hour: 1\n",
      "minute: 20\n",
      "300\n"
     ]
    }
   ],
   "source": [
    "#14. เขียนโปรแกรมรับ input สองตัวเป็นจำนวนเต็มระหว่าง 0-60 โดยตัว\n",
    "#แรกเป็นชั่วโมงและตัวที่สองเป็นนาที คำนวณค่าที่จอดรถถ้าชั่วโมงละ\n",
    "#300 บาท เศษนาทีเกิน 15 นาทีคิดเป็นหนึ่งชั่วโมง หากไม่เกินไม่คิดเงิน\n",
    "#และชั่วโมงแรกจอดฟรี\n",
    "\n",
    "hr = int(input(\"hour: \"))\n",
    "minute = int(input(\"minute: \"))\n",
    "hr_cost = (hr-1)*300\n",
    "if minute>15:\n",
    "    minute=1\n",
    "    new_cost = minute*300\n",
    "else:\n",
    "    minute = 0\n",
    "print(hr_cost+new_cost)\n"
   ]
  },
  {
   "cell_type": "code",
   "execution_count": 32,
   "metadata": {},
   "outputs": [
    {
     "name": "stdout",
     "output_type": "stream",
     "text": [
      "จำนวนสัตว์: 3\n",
      "จำนวนขาทั้งหมด: 10\n",
      "หัววัว 2.0, หัวนก1.0\n",
      "ภาษีที่ต้องจ่าย: 590.0\n"
     ]
    }
   ],
   "source": [
    "#15. โรงละครสัตว์มีนก กับ วัว และต้องจ่ายภาษีสัตว์ 2 ขา 150 บาทต่อตัว\n",
    "#จ่ายภาษีสัตว์ 4 ขา 220 บาทต่อตัว เขียนโปรแกรมรับค่า input สองตัว\n",
    "#ตัวแรกเป็นผลรวมจำนวนหัวของสัตว์ ตัวสองเป็นผลรวมจำนวนขาของ\n",
    "#สัตว์ จงหาว่าโรงละครสัตว์ต้องจ่ายภาษีเท่าใด\n",
    "\n",
    "animal = int(input(\"จำนวนสัตว์: \"))\n",
    "legs = int(input(\"จำนวนขาทั้งหมด: \"))\n",
    "cow_leg = (4*animal)-legs\n",
    "bird_leg = legs-cow_leg\n",
    "cow_head = bird_leg/4\n",
    "bird_head = cow_leg/2\n",
    "\n",
    "print(\"หัววัว {}, หัวนก{}\".format(cow_head,bird_head))\n",
    "print(\"ภาษีที่ต้องจ่าย:\",(cow_head*220)+(bird_head*150))\n"
   ]
  },
  {
   "cell_type": "code",
   "execution_count": null,
   "metadata": {},
   "outputs": [],
   "source": []
  }
 ],
 "metadata": {
  "kernelspec": {
   "display_name": "Python 3",
   "language": "python",
   "name": "python3"
  },
  "language_info": {
   "codemirror_mode": {
    "name": "ipython",
    "version": 3
   },
   "file_extension": ".py",
   "mimetype": "text/x-python",
   "name": "python",
   "nbconvert_exporter": "python",
   "pygments_lexer": "ipython3",
   "version": "3.8.3"
  }
 },
 "nbformat": 4,
 "nbformat_minor": 4
}
