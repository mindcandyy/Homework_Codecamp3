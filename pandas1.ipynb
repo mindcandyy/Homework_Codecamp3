{
 "cells": [
  {
   "cell_type": "code",
   "execution_count": 1,
   "metadata": {},
   "outputs": [
    {
     "name": "stdout",
     "output_type": "stream",
     "text": [
      "     PassengerId  Survived  Pclass  \\\n",
      "0              1         0       3   \n",
      "1              2         1       1   \n",
      "2              3         1       3   \n",
      "3              4         1       1   \n",
      "4              5         0       3   \n",
      "..           ...       ...     ...   \n",
      "886          887         0       2   \n",
      "887          888         1       1   \n",
      "888          889         0       3   \n",
      "889          890         1       1   \n",
      "890          891         0       3   \n",
      "\n",
      "                                                  Name     Sex   Age  SibSp  \\\n",
      "0                              Braund, Mr. Owen Harris    male  22.0      1   \n",
      "1    Cumings, Mrs. John Bradley (Florence Briggs Th...  female  38.0      1   \n",
      "2                               Heikkinen, Miss. Laina  female  26.0      0   \n",
      "3         Futrelle, Mrs. Jacques Heath (Lily May Peel)  female  35.0      1   \n",
      "4                             Allen, Mr. William Henry    male  35.0      0   \n",
      "..                                                 ...     ...   ...    ...   \n",
      "886                              Montvila, Rev. Juozas    male  27.0      0   \n",
      "887                       Graham, Miss. Margaret Edith  female  19.0      0   \n",
      "888           Johnston, Miss. Catherine Helen \"Carrie\"  female   NaN      1   \n",
      "889                              Behr, Mr. Karl Howell    male  26.0      0   \n",
      "890                                Dooley, Mr. Patrick    male  32.0      0   \n",
      "\n",
      "     Parch            Ticket     Fare Cabin Embarked  \n",
      "0        0         A/5 21171   7.2500   NaN        S  \n",
      "1        0          PC 17599  71.2833   C85        C  \n",
      "2        0  STON/O2. 3101282   7.9250   NaN        S  \n",
      "3        0            113803  53.1000  C123        S  \n",
      "4        0            373450   8.0500   NaN        S  \n",
      "..     ...               ...      ...   ...      ...  \n",
      "886      0            211536  13.0000   NaN        S  \n",
      "887      0            112053  30.0000   B42        S  \n",
      "888      2        W./C. 6607  23.4500   NaN        S  \n",
      "889      0            111369  30.0000  C148        C  \n",
      "890      0            370376   7.7500   NaN        Q  \n",
      "\n",
      "[891 rows x 12 columns]\n"
     ]
    }
   ],
   "source": [
    "import pandas as pd\n",
    "import numpy as np\n",
    "#1\n",
    "url = 'https://github.com/mindcandyy/Homework_Codecamp3/raw/main/train.csv'\n",
    "df = pd.read_csv(url)\n",
    "print(df)"
   ]
  },
  {
   "cell_type": "code",
   "execution_count": 2,
   "metadata": {},
   "outputs": [
    {
     "name": "stdout",
     "output_type": "stream",
     "text": [
      "   PassengerId  Survived  Pclass  \\\n",
      "0            1         0       3   \n",
      "1            2         1       1   \n",
      "2            3         1       3   \n",
      "3            4         1       1   \n",
      "4            5         0       3   \n",
      "5            6         0       3   \n",
      "6            7         0       1   \n",
      "7            8         0       3   \n",
      "8            9         1       3   \n",
      "9           10         1       2   \n",
      "\n",
      "                                                Name     Sex   Age  SibSp  \\\n",
      "0                            Braund, Mr. Owen Harris    male  22.0      1   \n",
      "1  Cumings, Mrs. John Bradley (Florence Briggs Th...  female  38.0      1   \n",
      "2                             Heikkinen, Miss. Laina  female  26.0      0   \n",
      "3       Futrelle, Mrs. Jacques Heath (Lily May Peel)  female  35.0      1   \n",
      "4                           Allen, Mr. William Henry    male  35.0      0   \n",
      "5                                   Moran, Mr. James    male   NaN      0   \n",
      "6                            McCarthy, Mr. Timothy J    male  54.0      0   \n",
      "7                     Palsson, Master. Gosta Leonard    male   2.0      3   \n",
      "8  Johnson, Mrs. Oscar W (Elisabeth Vilhelmina Berg)  female  27.0      0   \n",
      "9                Nasser, Mrs. Nicholas (Adele Achem)  female  14.0      1   \n",
      "\n",
      "   Parch            Ticket     Fare Cabin Embarked  \n",
      "0      0         A/5 21171   7.2500   NaN        S  \n",
      "1      0          PC 17599  71.2833   C85        C  \n",
      "2      0  STON/O2. 3101282   7.9250   NaN        S  \n",
      "3      0            113803  53.1000  C123        S  \n",
      "4      0            373450   8.0500   NaN        S  \n",
      "5      0            330877   8.4583   NaN        Q  \n",
      "6      0             17463  51.8625   E46        S  \n",
      "7      1            349909  21.0750   NaN        S  \n",
      "8      2            347742  11.1333   NaN        S  \n",
      "9      0            237736  30.0708   NaN        C  \n",
      "     PassengerId  Survived  Pclass                                      Name  \\\n",
      "881          882         0       3                        Markun, Mr. Johann   \n",
      "882          883         0       3              Dahlberg, Miss. Gerda Ulrika   \n",
      "883          884         0       2             Banfield, Mr. Frederick James   \n",
      "884          885         0       3                    Sutehall, Mr. Henry Jr   \n",
      "885          886         0       3      Rice, Mrs. William (Margaret Norton)   \n",
      "886          887         0       2                     Montvila, Rev. Juozas   \n",
      "887          888         1       1              Graham, Miss. Margaret Edith   \n",
      "888          889         0       3  Johnston, Miss. Catherine Helen \"Carrie\"   \n",
      "889          890         1       1                     Behr, Mr. Karl Howell   \n",
      "890          891         0       3                       Dooley, Mr. Patrick   \n",
      "\n",
      "        Sex   Age  SibSp  Parch            Ticket     Fare Cabin Embarked  \n",
      "881    male  33.0      0      0            349257   7.8958   NaN        S  \n",
      "882  female  22.0      0      0              7552  10.5167   NaN        S  \n",
      "883    male  28.0      0      0  C.A./SOTON 34068  10.5000   NaN        S  \n",
      "884    male  25.0      0      0   SOTON/OQ 392076   7.0500   NaN        S  \n",
      "885  female  39.0      0      5            382652  29.1250   NaN        Q  \n",
      "886    male  27.0      0      0            211536  13.0000   NaN        S  \n",
      "887  female  19.0      0      0            112053  30.0000   B42        S  \n",
      "888  female   NaN      1      2        W./C. 6607  23.4500   NaN        S  \n",
      "889    male  26.0      0      0            111369  30.0000  C148        C  \n",
      "890    male  32.0      0      0            370376   7.7500   NaN        Q  \n",
      "     PassengerId  Survived  Pclass  \\\n",
      "817          818         0       2   \n",
      "416          417         1       2   \n",
      "371          372         0       3   \n",
      "560          561         0       3   \n",
      "199          200         0       2   \n",
      "547          548         1       2   \n",
      "223          224         0       3   \n",
      "477          478         0       3   \n",
      "699          700         0       3   \n",
      "101          102         0       3   \n",
      "\n",
      "                                                Name     Sex   Age  SibSp  \\\n",
      "817                               Mallet, Mr. Albert    male  31.0      1   \n",
      "416  Drew, Mrs. James Vivian (Lulu Thorne Christian)  female  34.0      1   \n",
      "371                        Wiklund, Mr. Jakob Alfred    male  18.0      1   \n",
      "560                         Morrow, Mr. Thomas Rowan    male   NaN      0   \n",
      "199           Yrois, Miss. Henriette (\"Mrs Harbeck\")  female  24.0      0   \n",
      "547                       Padro y Manent, Mr. Julian    male   NaN      0   \n",
      "223                             Nenkoff, Mr. Christo    male   NaN      0   \n",
      "477                        Braund, Mr. Lewis Richard    male  29.0      1   \n",
      "699         Humblen, Mr. Adolf Mathias Nicolai Olsen    male  42.0      0   \n",
      "101                 Petroff, Mr. Pastcho (\"Pentcho\")    male   NaN      0   \n",
      "\n",
      "     Parch           Ticket     Fare  Cabin Embarked  \n",
      "817      1  S.C./PARIS 2079  37.0042    NaN        C  \n",
      "416      1            28220  32.5000    NaN        S  \n",
      "371      0          3101267   6.4958    NaN        S  \n",
      "560      0           372622   7.7500    NaN        Q  \n",
      "199      0           248747  13.0000    NaN        S  \n",
      "547      0    SC/PARIS 2146  13.8625    NaN        C  \n",
      "223      0           349234   7.8958    NaN        S  \n",
      "477      0             3460   7.0458    NaN        S  \n",
      "699      0           348121   7.6500  F G63        S  \n",
      "101      0           349215   7.8958    NaN        S  \n"
     ]
    }
   ],
   "source": [
    "#2\n",
    "df1=df.head(10)\n",
    "df2=df.tail(10)\n",
    "df3=df.sample(10)\n",
    "print(df1)\n",
    "print(df2)\n",
    "print(df3)"
   ]
  },
  {
   "cell_type": "code",
   "execution_count": 3,
   "metadata": {},
   "outputs": [
    {
     "name": "stdout",
     "output_type": "stream",
     "text": [
      "0      S\n",
      "1      C\n",
      "2      S\n",
      "3      S\n",
      "4      S\n",
      "      ..\n",
      "886    S\n",
      "887    S\n",
      "888    S\n",
      "889    C\n",
      "890    Q\n",
      "Name: Embarked, Length: 889, dtype: object\n"
     ]
    }
   ],
   "source": [
    "#3\n",
    "df4=df['Embarked'].dropna()\n",
    "print(df4)"
   ]
  },
  {
   "cell_type": "code",
   "execution_count": 4,
   "metadata": {},
   "outputs": [
    {
     "name": "stdout",
     "output_type": "stream",
     "text": [
      "29.69911764705882\n",
      "None\n"
     ]
    }
   ],
   "source": [
    "#4\n",
    "avg=df['Age'].mean()\n",
    "print(avg)\n",
    "df5=df['Age'].fillna(value=avg,inplace=True)\n",
    "print(df5)"
   ]
  },
  {
   "cell_type": "code",
   "execution_count": 5,
   "metadata": {},
   "outputs": [
    {
     "name": "stdout",
     "output_type": "stream",
     "text": [
      "None\n"
     ]
    }
   ],
   "source": [
    "#5\n",
    "df6=df['Age'].fillna(value=0, inplace=True)\n",
    "print(df6)"
   ]
  },
  {
   "cell_type": "code",
   "execution_count": 6,
   "metadata": {},
   "outputs": [
    {
     "name": "stdout",
     "output_type": "stream",
     "text": [
      "0      22.000000\n",
      "1      38.000000\n",
      "2      26.000000\n",
      "3      35.000000\n",
      "4      35.000000\n",
      "         ...    \n",
      "886    27.000000\n",
      "887    19.000000\n",
      "888    29.699118\n",
      "889    26.000000\n",
      "890    32.000000\n",
      "Name: Age, Length: 891, dtype: float64\n"
     ]
    }
   ],
   "source": [
    "#6  ลบ row ที่ age เป็นค่าว่าง\n",
    "df7=df['Age'].dropna()\n",
    "print(df7)"
   ]
  },
  {
   "cell_type": "code",
   "execution_count": 7,
   "metadata": {},
   "outputs": [
    {
     "name": "stdout",
     "output_type": "stream",
     "text": [
      "male      577\n",
      "female    314\n",
      "Name: Sex, dtype: int64\n",
      "0.5441941074523396\n"
     ]
    }
   ],
   "source": [
    "#7. หาจำนวนผู้หญิงต่อผู้ชายที่อยู่บนเรือ\n",
    "count=df['Sex'].value_counts()\n",
    "print(count)\n",
    "female_to_male=314/577\n",
    "print(female_to_male)"
   ]
  },
  {
   "cell_type": "code",
   "execution_count": 8,
   "metadata": {
    "scrolled": true
   },
   "outputs": [
    {
     "name": "stdout",
     "output_type": "stream",
     "text": [
      "male    109\n",
      "Name: Sex, dtype: int64\n",
      "female    233\n",
      "Name: Sex, dtype: int64\n",
      "จำนวนผู้ชายรอด:male    109\n",
      "Name: Sex, dtype: int64,จำนวนผู้ชายรอด:female    233\n",
      "Name: Sex, dtype: int64\n"
     ]
    }
   ],
   "source": [
    "#8 หาจำนวนผู้หญิงและผู้ชายที่รอดชีวิต\n",
    "df8=df[df['Survived']==1]\n",
    "df9=df8[df8['Sex']=='male']\n",
    "count_m=df9['Sex'].value_counts()\n",
    "print(count_m)\n",
    "df10=df8[df8['Sex']=='female']\n",
    "count_fm=df10['Sex'].value_counts()\n",
    "print(count_fm)\n",
    "print(\"จำนวนผู้ชายรอด:{},จำนวนผู้ชายรอด:{}\".format(count_m,count_fm))"
   ]
  },
  {
   "cell_type": "code",
   "execution_count": 9,
   "metadata": {},
   "outputs": [
    {
     "name": "stdout",
     "output_type": "stream",
     "text": [
      "male      577\n",
      "female    314\n",
      "Name: Sex, dtype: int64\n",
      "%รอดผู้หญิงfemale    74.203822\n",
      "Name: Sex, dtype: float64 , %รอดผู้ชายmale    18.890815\n",
      "Name: Sex, dtype: float64\n"
     ]
    }
   ],
   "source": [
    "#9. หา % การรอดชีวิตของผู้หญิงและผู้ชาย\n",
    "count_fm=df10['Sex'].value_counts()\n",
    "total=df['Sex'].value_counts()\n",
    "print(total)\n",
    "per_fm=count_fm/314*100\n",
    "per_m=count_m/577*100\n",
    "print(\"%รอดผู้หญิง{} , %รอดผู้ชาย{}\".format(per_fm,per_m))"
   ]
  },
  {
   "cell_type": "code",
   "execution_count": 10,
   "metadata": {},
   "outputs": [
    {
     "data": {
      "text/html": [
       "<div>\n",
       "<style scoped>\n",
       "    .dataframe tbody tr th:only-of-type {\n",
       "        vertical-align: middle;\n",
       "    }\n",
       "\n",
       "    .dataframe tbody tr th {\n",
       "        vertical-align: top;\n",
       "    }\n",
       "\n",
       "    .dataframe thead th {\n",
       "        text-align: right;\n",
       "    }\n",
       "</style>\n",
       "<table border=\"1\" class=\"dataframe\">\n",
       "  <thead>\n",
       "    <tr style=\"text-align: right;\">\n",
       "      <th></th>\n",
       "      <th>PassengerId</th>\n",
       "      <th>Survived</th>\n",
       "      <th>Pclass</th>\n",
       "      <th>Name</th>\n",
       "      <th>Sex</th>\n",
       "      <th>Age</th>\n",
       "      <th>SibSp</th>\n",
       "      <th>Parch</th>\n",
       "      <th>Ticket</th>\n",
       "      <th>Fare</th>\n",
       "      <th>Cabin</th>\n",
       "      <th>Embarked</th>\n",
       "    </tr>\n",
       "  </thead>\n",
       "  <tbody>\n",
       "    <tr>\n",
       "      <th>0</th>\n",
       "      <td>1</td>\n",
       "      <td>0</td>\n",
       "      <td>3</td>\n",
       "      <td>Braund, Mr. Owen Harris</td>\n",
       "      <td>1</td>\n",
       "      <td>22.000000</td>\n",
       "      <td>1</td>\n",
       "      <td>0</td>\n",
       "      <td>A/5 21171</td>\n",
       "      <td>7.2500</td>\n",
       "      <td>NaN</td>\n",
       "      <td>S</td>\n",
       "    </tr>\n",
       "    <tr>\n",
       "      <th>1</th>\n",
       "      <td>2</td>\n",
       "      <td>1</td>\n",
       "      <td>1</td>\n",
       "      <td>Cumings, Mrs. John Bradley (Florence Briggs Th...</td>\n",
       "      <td>0</td>\n",
       "      <td>38.000000</td>\n",
       "      <td>1</td>\n",
       "      <td>0</td>\n",
       "      <td>PC 17599</td>\n",
       "      <td>71.2833</td>\n",
       "      <td>C85</td>\n",
       "      <td>C</td>\n",
       "    </tr>\n",
       "    <tr>\n",
       "      <th>2</th>\n",
       "      <td>3</td>\n",
       "      <td>1</td>\n",
       "      <td>3</td>\n",
       "      <td>Heikkinen, Miss. Laina</td>\n",
       "      <td>0</td>\n",
       "      <td>26.000000</td>\n",
       "      <td>0</td>\n",
       "      <td>0</td>\n",
       "      <td>STON/O2. 3101282</td>\n",
       "      <td>7.9250</td>\n",
       "      <td>NaN</td>\n",
       "      <td>S</td>\n",
       "    </tr>\n",
       "    <tr>\n",
       "      <th>3</th>\n",
       "      <td>4</td>\n",
       "      <td>1</td>\n",
       "      <td>1</td>\n",
       "      <td>Futrelle, Mrs. Jacques Heath (Lily May Peel)</td>\n",
       "      <td>0</td>\n",
       "      <td>35.000000</td>\n",
       "      <td>1</td>\n",
       "      <td>0</td>\n",
       "      <td>113803</td>\n",
       "      <td>53.1000</td>\n",
       "      <td>C123</td>\n",
       "      <td>S</td>\n",
       "    </tr>\n",
       "    <tr>\n",
       "      <th>4</th>\n",
       "      <td>5</td>\n",
       "      <td>0</td>\n",
       "      <td>3</td>\n",
       "      <td>Allen, Mr. William Henry</td>\n",
       "      <td>1</td>\n",
       "      <td>35.000000</td>\n",
       "      <td>0</td>\n",
       "      <td>0</td>\n",
       "      <td>373450</td>\n",
       "      <td>8.0500</td>\n",
       "      <td>NaN</td>\n",
       "      <td>S</td>\n",
       "    </tr>\n",
       "    <tr>\n",
       "      <th>...</th>\n",
       "      <td>...</td>\n",
       "      <td>...</td>\n",
       "      <td>...</td>\n",
       "      <td>...</td>\n",
       "      <td>...</td>\n",
       "      <td>...</td>\n",
       "      <td>...</td>\n",
       "      <td>...</td>\n",
       "      <td>...</td>\n",
       "      <td>...</td>\n",
       "      <td>...</td>\n",
       "      <td>...</td>\n",
       "    </tr>\n",
       "    <tr>\n",
       "      <th>886</th>\n",
       "      <td>887</td>\n",
       "      <td>0</td>\n",
       "      <td>2</td>\n",
       "      <td>Montvila, Rev. Juozas</td>\n",
       "      <td>1</td>\n",
       "      <td>27.000000</td>\n",
       "      <td>0</td>\n",
       "      <td>0</td>\n",
       "      <td>211536</td>\n",
       "      <td>13.0000</td>\n",
       "      <td>NaN</td>\n",
       "      <td>S</td>\n",
       "    </tr>\n",
       "    <tr>\n",
       "      <th>887</th>\n",
       "      <td>888</td>\n",
       "      <td>1</td>\n",
       "      <td>1</td>\n",
       "      <td>Graham, Miss. Margaret Edith</td>\n",
       "      <td>0</td>\n",
       "      <td>19.000000</td>\n",
       "      <td>0</td>\n",
       "      <td>0</td>\n",
       "      <td>112053</td>\n",
       "      <td>30.0000</td>\n",
       "      <td>B42</td>\n",
       "      <td>S</td>\n",
       "    </tr>\n",
       "    <tr>\n",
       "      <th>888</th>\n",
       "      <td>889</td>\n",
       "      <td>0</td>\n",
       "      <td>3</td>\n",
       "      <td>Johnston, Miss. Catherine Helen \"Carrie\"</td>\n",
       "      <td>0</td>\n",
       "      <td>29.699118</td>\n",
       "      <td>1</td>\n",
       "      <td>2</td>\n",
       "      <td>W./C. 6607</td>\n",
       "      <td>23.4500</td>\n",
       "      <td>NaN</td>\n",
       "      <td>S</td>\n",
       "    </tr>\n",
       "    <tr>\n",
       "      <th>889</th>\n",
       "      <td>890</td>\n",
       "      <td>1</td>\n",
       "      <td>1</td>\n",
       "      <td>Behr, Mr. Karl Howell</td>\n",
       "      <td>1</td>\n",
       "      <td>26.000000</td>\n",
       "      <td>0</td>\n",
       "      <td>0</td>\n",
       "      <td>111369</td>\n",
       "      <td>30.0000</td>\n",
       "      <td>C148</td>\n",
       "      <td>C</td>\n",
       "    </tr>\n",
       "    <tr>\n",
       "      <th>890</th>\n",
       "      <td>891</td>\n",
       "      <td>0</td>\n",
       "      <td>3</td>\n",
       "      <td>Dooley, Mr. Patrick</td>\n",
       "      <td>1</td>\n",
       "      <td>32.000000</td>\n",
       "      <td>0</td>\n",
       "      <td>0</td>\n",
       "      <td>370376</td>\n",
       "      <td>7.7500</td>\n",
       "      <td>NaN</td>\n",
       "      <td>Q</td>\n",
       "    </tr>\n",
       "  </tbody>\n",
       "</table>\n",
       "<p>891 rows × 12 columns</p>\n",
       "</div>"
      ],
      "text/plain": [
       "     PassengerId  Survived  Pclass  \\\n",
       "0              1         0       3   \n",
       "1              2         1       1   \n",
       "2              3         1       3   \n",
       "3              4         1       1   \n",
       "4              5         0       3   \n",
       "..           ...       ...     ...   \n",
       "886          887         0       2   \n",
       "887          888         1       1   \n",
       "888          889         0       3   \n",
       "889          890         1       1   \n",
       "890          891         0       3   \n",
       "\n",
       "                                                  Name Sex        Age  SibSp  \\\n",
       "0                              Braund, Mr. Owen Harris   1  22.000000      1   \n",
       "1    Cumings, Mrs. John Bradley (Florence Briggs Th...   0  38.000000      1   \n",
       "2                               Heikkinen, Miss. Laina   0  26.000000      0   \n",
       "3         Futrelle, Mrs. Jacques Heath (Lily May Peel)   0  35.000000      1   \n",
       "4                             Allen, Mr. William Henry   1  35.000000      0   \n",
       "..                                                 ...  ..        ...    ...   \n",
       "886                              Montvila, Rev. Juozas   1  27.000000      0   \n",
       "887                       Graham, Miss. Margaret Edith   0  19.000000      0   \n",
       "888           Johnston, Miss. Catherine Helen \"Carrie\"   0  29.699118      1   \n",
       "889                              Behr, Mr. Karl Howell   1  26.000000      0   \n",
       "890                                Dooley, Mr. Patrick   1  32.000000      0   \n",
       "\n",
       "     Parch            Ticket     Fare Cabin Embarked  \n",
       "0        0         A/5 21171   7.2500   NaN        S  \n",
       "1        0          PC 17599  71.2833   C85        C  \n",
       "2        0  STON/O2. 3101282   7.9250   NaN        S  \n",
       "3        0            113803  53.1000  C123        S  \n",
       "4        0            373450   8.0500   NaN        S  \n",
       "..     ...               ...      ...   ...      ...  \n",
       "886      0            211536  13.0000   NaN        S  \n",
       "887      0            112053  30.0000   B42        S  \n",
       "888      2        W./C. 6607  23.4500   NaN        S  \n",
       "889      0            111369  30.0000  C148        C  \n",
       "890      0            370376   7.7500   NaN        Q  \n",
       "\n",
       "[891 rows x 12 columns]"
      ]
     },
     "execution_count": 10,
     "metadata": {},
     "output_type": "execute_result"
    }
   ],
   "source": [
    "#10. แปลงคอลัมน์ female = 0 และ male = 1\n",
    "df12= df[df['Sex']=='male']\n",
    "df['Sex'].replace({'male':'1','female':'0'},inplace=True)\n",
    "df\n"
   ]
  },
  {
   "cell_type": "code",
   "execution_count": 11,
   "metadata": {},
   "outputs": [
    {
     "name": "stdout",
     "output_type": "stream",
     "text": [
      "                          Name   Age Embarked\n",
      "603  Torber, Mr. Ernst William  44.0        S\n"
     ]
    }
   ],
   "source": [
    "#11. หาคนที่อายุมากที่สุดพร้อมบอกชื่อ อายุ และลงท่าที่ไหน\n",
    "df.sort_values('Age')[::-1]\n",
    "print(df.iloc[[603],[3,5,11]])\n"
   ]
  },
  {
   "cell_type": "code",
   "execution_count": 12,
   "metadata": {},
   "outputs": [
    {
     "name": "stdout",
     "output_type": "stream",
     "text": [
      "                                Name   Age Embarked\n",
      "803  Thomas, Master. Assad Alexander  0.42        C\n"
     ]
    }
   ],
   "source": [
    "#12. หาคนที่อายุน้อยที่สุดพร้อมบอกชื่อ อายุ และลงท่าที่ไหน\n",
    "df.sort_values('Age')\n",
    "print(df.iloc[[803],[3,5,11]])"
   ]
  },
  {
   "cell_type": "code",
   "execution_count": 13,
   "metadata": {},
   "outputs": [
    {
     "name": "stdout",
     "output_type": "stream",
     "text": [
      "                                   Name   Age  Survived\n",
      "679  Cardeza, Mr. Thomas Drake Martinez  36.0         1\n"
     ]
    }
   ],
   "source": [
    "#13. หาคนที่จ่ายค่าโดยสารแพงที่สุดพร้อมบอกชื่อ อายุ และ รอดชีวิตไหม\n",
    "df.sort_values('Fare')[::-1]\n",
    "print(df.iloc[[679],[3,5,1]])"
   ]
  },
  {
   "cell_type": "code",
   "execution_count": 14,
   "metadata": {
    "scrolled": true
   },
   "outputs": [
    {
     "name": "stdout",
     "output_type": "stream",
     "text": [
      "                             Name   Age  Survived\n",
      "271  Tornquist, Mr. William Henry  25.0         1\n"
     ]
    }
   ],
   "source": [
    "#14. หาคนที่จ่ายค่าโดยสารถูกที่สุดพร้อมบอกชื่อ อายุ และรอดชีวิตไหม\n",
    "df.sort_values('Fare')\n",
    "print(df.iloc[[271],[3,5,1]])"
   ]
  },
  {
   "cell_type": "code",
   "execution_count": 15,
   "metadata": {},
   "outputs": [
    {
     "name": "stdout",
     "output_type": "stream",
     "text": [
      "3    491\n",
      "1    216\n",
      "2    184\n",
      "Name: Pclass, dtype: int64\n"
     ]
    }
   ],
   "source": [
    "#15. สรุปว่ามีคนนั่งตั๋ว 1 2 3 กี่คน\n",
    "countticket = df['Pclass'].value_counts()\n",
    "print(countticket)\n",
    "\n"
   ]
  },
  {
   "cell_type": "code",
   "execution_count": 16,
   "metadata": {},
   "outputs": [
    {
     "name": "stdout",
     "output_type": "stream",
     "text": [
      "ค่าเฉลี่ยตั๋วชั้นที่1: 84.154687, ค่าเฉลี่ยตั๋วชั้นที่2: 20.662183, ค่าเฉลี่ยตั๋วชั้นที่3: 13.67555\n"
     ]
    }
   ],
   "source": [
    "#16 หาค่าเฉลี่ยของตั๋วโดยสารแบบที่นั่งชั้น 1 2 3\n",
    "p = df.groupby(['Pclass']).describe()\n",
    "print(\"ค่าเฉลี่ยตั๋วชั้นที่1: {}, ค่าเฉลี่ยตั๋วชั้นที่2: {}, ค่าเฉลี่ยตั๋วชั้นที่3: {}\".format(84.154687,20.662183,13.675550))"
   ]
  },
  {
   "cell_type": "code",
   "execution_count": 17,
   "metadata": {},
   "outputs": [
    {
     "name": "stdout",
     "output_type": "stream",
     "text": [
      "22คน\n"
     ]
    }
   ],
   "source": [
    "#17. มีผู้โดยสารกี่คนที่อายุเกิน 50 แล้วรอดชีวิต\n",
    "age50 = df[(df['Age']>50) & (df['Survived']==1)].shape\n",
    "print(\"22คน\")"
   ]
  },
  {
   "cell_type": "code",
   "execution_count": 18,
   "metadata": {},
   "outputs": [
    {
     "name": "stdout",
     "output_type": "stream",
     "text": [
      "       PassengerId                                                             \\\n",
      "             count        mean         std   min     25%    50%    75%    max   \n",
      "Pclass                                                                          \n",
      "1            216.0  461.597222  246.737616   2.0  270.75  472.0  670.5  890.0   \n",
      "2            184.0  445.956522  250.852161  10.0  234.50  435.5  668.0  887.0   \n",
      "3            491.0  439.154786  264.441453   1.0  200.00  432.0  666.5  891.0   \n",
      "\n",
      "       Survived            ... Parch        Fare                             \\\n",
      "          count      mean  ...   75%  max  count       mean        std  min   \n",
      "Pclass                     ...                                                \n",
      "1         216.0  0.629630  ...   0.0  4.0  216.0  84.154687  78.380373  0.0   \n",
      "2         184.0  0.472826  ...   1.0  3.0  184.0  20.662183  13.417399  0.0   \n",
      "3         491.0  0.242363  ...   0.0  6.0  491.0  13.675550  11.778142  0.0   \n",
      "\n",
      "                                           \n",
      "             25%      50%   75%       max  \n",
      "Pclass                                     \n",
      "1       30.92395  60.2875  93.5  512.3292  \n",
      "2       13.00000  14.2500  26.0   73.5000  \n",
      "3        7.75000   8.0500  15.5   69.5500  \n",
      "\n",
      "[3 rows x 48 columns]\n"
     ]
    }
   ],
   "source": [
    "#18. แสดงผลข้อมูลทั้งหมดของที่นั่งชั้น 1 2 3 (describe)\n",
    "desc = df.groupby(['Pclass']).describe()\n",
    "print(desc)"
   ]
  },
  {
   "cell_type": "code",
   "execution_count": 19,
   "metadata": {},
   "outputs": [
    {
     "data": {
      "text/plain": [
       "Pclass\n",
       "1    512.3292\n",
       "2     73.5000\n",
       "3     69.5500\n",
       "Name: (Fare, max), dtype: float64"
      ]
     },
     "execution_count": 19,
     "metadata": {},
     "output_type": "execute_result"
    }
   ],
   "source": [
    "#19. แสดงผลตั๋วที่แพงที่สุดของที่นั่งแต่ละชั้น\n",
    "desc[('Fare','max')]"
   ]
  },
  {
   "cell_type": "code",
   "execution_count": 50,
   "metadata": {},
   "outputs": [
    {
     "name": "stdout",
     "output_type": "stream",
     "text": [
      "(64, 12)\n",
      "age0-10 อัตราการรอด:1    59.375\n",
      "Name: Survived, dtype: float64 %\n",
      "(407, 12)\n",
      "age20-30 อัตราการรอด:1    33.415233\n",
      "Name: Survived, dtype: float64 %\n",
      "(86, 12)\n",
      "age40-50 อัตราการรอด:1    38.372093\n",
      "Name: Survived, dtype: float64 %\n",
      "(17, 12)\n",
      "age40-50 อัตราการรอด:1    23.529412\n",
      "Name: Survived, dtype: float64 %\n"
     ]
    }
   ],
   "source": [
    "#20. แสดงเป็นกลุ่มช่วงอายุ 0-10, 20-30 …. (เพิ่มทีละ10) และหา\n",
    "#ว่าแต่ละกลุ่มมีอัตราการรอดชีวิตเท่าไหร่\n",
    "\n",
    "tabl1= df[(df['Age']>0)&(df['Age']<=10)]\n",
    "tabl1_count = tabl1[tabl1['Survived']==1]\n",
    "print(tabl1.shape)\n",
    "print(\"age0-10 อัตราการรอด:{} %\".format(tabl1_count['Survived'].value_counts()/64*100))\n",
    "\n",
    "tabl2= df[(df['Age']>20)&(df['Age']<=30)]\n",
    "tabl2_count = tabl2[tabl2['Survived']==1]\n",
    "print(tabl2.shape)\n",
    "print(\"age20-30 อัตราการรอด:{} %\".format(tabl2_count['Survived'].value_counts()/407*100))\n",
    "\n",
    "tabl3= df[(df['Age']>40)&(df['Age']<=50)]\n",
    "tabl3_count = tabl3[tabl3['Survived']==1]\n",
    "print(tabl3.shape)\n",
    "print(\"age40-50 อัตราการรอด:{} %\".format(tabl3_count['Survived'].value_counts()/86*100))\n",
    "\n",
    "tabl4= df[(df['Age']>60)&(df['Age']<=70)]\n",
    "tabl4_count = tabl4[tabl4['Survived']==1]\n",
    "print(tabl4.shape)\n",
    "print(\"age40-50 อัตราการรอด:{} %\".format(tabl4_count['Survived'].value_counts()/17*100))\n",
    "\n"
   ]
  },
  {
   "cell_type": "code",
   "execution_count": 52,
   "metadata": {},
   "outputs": [
    {
     "data": {
      "text/html": [
       "<div>\n",
       "<style scoped>\n",
       "    .dataframe tbody tr th:only-of-type {\n",
       "        vertical-align: middle;\n",
       "    }\n",
       "\n",
       "    .dataframe tbody tr th {\n",
       "        vertical-align: top;\n",
       "    }\n",
       "\n",
       "    .dataframe thead th {\n",
       "        text-align: right;\n",
       "    }\n",
       "</style>\n",
       "<table border=\"1\" class=\"dataframe\">\n",
       "  <thead>\n",
       "    <tr style=\"text-align: right;\">\n",
       "      <th></th>\n",
       "      <th>PassengerId</th>\n",
       "      <th>Survived</th>\n",
       "      <th>Pclass</th>\n",
       "      <th>Name</th>\n",
       "      <th>Sex</th>\n",
       "      <th>Age</th>\n",
       "      <th>SibSp</th>\n",
       "      <th>Parch</th>\n",
       "      <th>Ticket</th>\n",
       "      <th>Fare</th>\n",
       "      <th>Cabin</th>\n",
       "      <th>Embarked</th>\n",
       "    </tr>\n",
       "  </thead>\n",
       "  <tbody>\n",
       "    <tr>\n",
       "      <th>679</th>\n",
       "      <td>680</td>\n",
       "      <td>1</td>\n",
       "      <td>1</td>\n",
       "      <td>Cardeza, Mr. Thomas Drake Martinez</td>\n",
       "      <td>1</td>\n",
       "      <td>36.000000</td>\n",
       "      <td>0</td>\n",
       "      <td>1</td>\n",
       "      <td>PC 17755</td>\n",
       "      <td>512.3292</td>\n",
       "      <td>B51 B53 B55</td>\n",
       "      <td>C</td>\n",
       "    </tr>\n",
       "    <tr>\n",
       "      <th>258</th>\n",
       "      <td>259</td>\n",
       "      <td>1</td>\n",
       "      <td>1</td>\n",
       "      <td>Ward, Miss. Anna</td>\n",
       "      <td>0</td>\n",
       "      <td>35.000000</td>\n",
       "      <td>0</td>\n",
       "      <td>0</td>\n",
       "      <td>PC 17755</td>\n",
       "      <td>512.3292</td>\n",
       "      <td>NaN</td>\n",
       "      <td>C</td>\n",
       "    </tr>\n",
       "    <tr>\n",
       "      <th>737</th>\n",
       "      <td>738</td>\n",
       "      <td>1</td>\n",
       "      <td>1</td>\n",
       "      <td>Lesurer, Mr. Gustave J</td>\n",
       "      <td>1</td>\n",
       "      <td>35.000000</td>\n",
       "      <td>0</td>\n",
       "      <td>0</td>\n",
       "      <td>PC 17755</td>\n",
       "      <td>512.3292</td>\n",
       "      <td>B101</td>\n",
       "      <td>C</td>\n",
       "    </tr>\n",
       "    <tr>\n",
       "      <th>341</th>\n",
       "      <td>342</td>\n",
       "      <td>1</td>\n",
       "      <td>1</td>\n",
       "      <td>Fortune, Miss. Alice Elizabeth</td>\n",
       "      <td>0</td>\n",
       "      <td>24.000000</td>\n",
       "      <td>3</td>\n",
       "      <td>2</td>\n",
       "      <td>19950</td>\n",
       "      <td>263.0000</td>\n",
       "      <td>C23 C25 C27</td>\n",
       "      <td>S</td>\n",
       "    </tr>\n",
       "    <tr>\n",
       "      <th>438</th>\n",
       "      <td>439</td>\n",
       "      <td>0</td>\n",
       "      <td>1</td>\n",
       "      <td>Fortune, Mr. Mark</td>\n",
       "      <td>1</td>\n",
       "      <td>64.000000</td>\n",
       "      <td>1</td>\n",
       "      <td>4</td>\n",
       "      <td>19950</td>\n",
       "      <td>263.0000</td>\n",
       "      <td>C23 C25 C27</td>\n",
       "      <td>S</td>\n",
       "    </tr>\n",
       "    <tr>\n",
       "      <th>...</th>\n",
       "      <td>...</td>\n",
       "      <td>...</td>\n",
       "      <td>...</td>\n",
       "      <td>...</td>\n",
       "      <td>...</td>\n",
       "      <td>...</td>\n",
       "      <td>...</td>\n",
       "      <td>...</td>\n",
       "      <td>...</td>\n",
       "      <td>...</td>\n",
       "      <td>...</td>\n",
       "      <td>...</td>\n",
       "    </tr>\n",
       "    <tr>\n",
       "      <th>277</th>\n",
       "      <td>278</td>\n",
       "      <td>0</td>\n",
       "      <td>2</td>\n",
       "      <td>Parkes, Mr. Francis \"Frank\"</td>\n",
       "      <td>1</td>\n",
       "      <td>29.699118</td>\n",
       "      <td>0</td>\n",
       "      <td>0</td>\n",
       "      <td>239853</td>\n",
       "      <td>0.0000</td>\n",
       "      <td>NaN</td>\n",
       "      <td>S</td>\n",
       "    </tr>\n",
       "    <tr>\n",
       "      <th>633</th>\n",
       "      <td>634</td>\n",
       "      <td>0</td>\n",
       "      <td>1</td>\n",
       "      <td>Parr, Mr. William Henry Marsh</td>\n",
       "      <td>1</td>\n",
       "      <td>29.699118</td>\n",
       "      <td>0</td>\n",
       "      <td>0</td>\n",
       "      <td>112052</td>\n",
       "      <td>0.0000</td>\n",
       "      <td>NaN</td>\n",
       "      <td>S</td>\n",
       "    </tr>\n",
       "    <tr>\n",
       "      <th>302</th>\n",
       "      <td>303</td>\n",
       "      <td>0</td>\n",
       "      <td>3</td>\n",
       "      <td>Johnson, Mr. William Cahoone Jr</td>\n",
       "      <td>1</td>\n",
       "      <td>19.000000</td>\n",
       "      <td>0</td>\n",
       "      <td>0</td>\n",
       "      <td>LINE</td>\n",
       "      <td>0.0000</td>\n",
       "      <td>NaN</td>\n",
       "      <td>S</td>\n",
       "    </tr>\n",
       "    <tr>\n",
       "      <th>597</th>\n",
       "      <td>598</td>\n",
       "      <td>0</td>\n",
       "      <td>3</td>\n",
       "      <td>Johnson, Mr. Alfred</td>\n",
       "      <td>1</td>\n",
       "      <td>49.000000</td>\n",
       "      <td>0</td>\n",
       "      <td>0</td>\n",
       "      <td>LINE</td>\n",
       "      <td>0.0000</td>\n",
       "      <td>NaN</td>\n",
       "      <td>S</td>\n",
       "    </tr>\n",
       "    <tr>\n",
       "      <th>271</th>\n",
       "      <td>272</td>\n",
       "      <td>1</td>\n",
       "      <td>3</td>\n",
       "      <td>Tornquist, Mr. William Henry</td>\n",
       "      <td>1</td>\n",
       "      <td>25.000000</td>\n",
       "      <td>0</td>\n",
       "      <td>0</td>\n",
       "      <td>LINE</td>\n",
       "      <td>0.0000</td>\n",
       "      <td>NaN</td>\n",
       "      <td>S</td>\n",
       "    </tr>\n",
       "  </tbody>\n",
       "</table>\n",
       "<p>891 rows × 12 columns</p>\n",
       "</div>"
      ],
      "text/plain": [
       "     PassengerId  Survived  Pclass                                Name Sex  \\\n",
       "679          680         1       1  Cardeza, Mr. Thomas Drake Martinez   1   \n",
       "258          259         1       1                    Ward, Miss. Anna   0   \n",
       "737          738         1       1              Lesurer, Mr. Gustave J   1   \n",
       "341          342         1       1      Fortune, Miss. Alice Elizabeth   0   \n",
       "438          439         0       1                   Fortune, Mr. Mark   1   \n",
       "..           ...       ...     ...                                 ...  ..   \n",
       "277          278         0       2         Parkes, Mr. Francis \"Frank\"   1   \n",
       "633          634         0       1       Parr, Mr. William Henry Marsh   1   \n",
       "302          303         0       3     Johnson, Mr. William Cahoone Jr   1   \n",
       "597          598         0       3                 Johnson, Mr. Alfred   1   \n",
       "271          272         1       3        Tornquist, Mr. William Henry   1   \n",
       "\n",
       "           Age  SibSp  Parch    Ticket      Fare        Cabin Embarked  \n",
       "679  36.000000      0      1  PC 17755  512.3292  B51 B53 B55        C  \n",
       "258  35.000000      0      0  PC 17755  512.3292          NaN        C  \n",
       "737  35.000000      0      0  PC 17755  512.3292         B101        C  \n",
       "341  24.000000      3      2     19950  263.0000  C23 C25 C27        S  \n",
       "438  64.000000      1      4     19950  263.0000  C23 C25 C27        S  \n",
       "..         ...    ...    ...       ...       ...          ...      ...  \n",
       "277  29.699118      0      0    239853    0.0000          NaN        S  \n",
       "633  29.699118      0      0    112052    0.0000          NaN        S  \n",
       "302  19.000000      0      0      LINE    0.0000          NaN        S  \n",
       "597  49.000000      0      0      LINE    0.0000          NaN        S  \n",
       "271  25.000000      0      0      LINE    0.0000          NaN        S  \n",
       "\n",
       "[891 rows x 12 columns]"
      ]
     },
     "execution_count": 52,
     "metadata": {},
     "output_type": "execute_result"
    }
   ],
   "source": [
    "#21. เรียงลำดับตามราคามากไปน้อย และน้อยไปมาก\n",
    "fare=df['Fare']\n",
    "df.sort_values('Fare')[::-1]"
   ]
  }
 ],
 "metadata": {
  "kernelspec": {
   "display_name": "Python 3",
   "language": "python",
   "name": "python3"
  },
  "language_info": {
   "codemirror_mode": {
    "name": "ipython",
    "version": 3
   },
   "file_extension": ".py",
   "mimetype": "text/x-python",
   "name": "python",
   "nbconvert_exporter": "python",
   "pygments_lexer": "ipython3",
   "version": "3.8.3"
  }
 },
 "nbformat": 4,
 "nbformat_minor": 4
}
