{
 "cells": [
  {
   "cell_type": "code",
   "execution_count": 1,
   "metadata": {},
   "outputs": [
    {
     "data": {
      "text/plain": [
       "5"
      ]
     },
     "execution_count": 1,
     "metadata": {},
     "output_type": "execute_result"
    }
   ],
   "source": [
    "#quiz1\n",
    "#ข้อ1\n",
    "2345%13"
   ]
  },
  {
   "cell_type": "code",
   "execution_count": null,
   "metadata": {},
   "outputs": [],
   "source": []
  },
  {
   "cell_type": "code",
   "execution_count": 3,
   "metadata": {},
   "outputs": [
    {
     "data": {
      "text/plain": [
       "92"
      ]
     },
     "execution_count": 3,
     "metadata": {},
     "output_type": "execute_result"
    }
   ],
   "source": [
    "#ข้อ2\n",
    "1567//17"
   ]
  },
  {
   "cell_type": "code",
   "execution_count": 4,
   "metadata": {},
   "outputs": [
    {
     "name": "stdout",
     "output_type": "stream",
     "text": [
      "1 2\n"
     ]
    }
   ],
   "source": [
    "#ข้อ3\n",
    "FirstName = 1\n",
    "Firstname = 2\n",
    "print(FirstName, Firstname)\n",
    "#ไม่"
   ]
  },
  {
   "cell_type": "code",
   "execution_count": 5,
   "metadata": {},
   "outputs": [
    {
     "ename": "SyntaxError",
     "evalue": "invalid syntax (<ipython-input-5-6ac24822032a>, line 2)",
     "output_type": "error",
     "traceback": [
      "\u001b[1;36m  File \u001b[1;32m\"<ipython-input-5-6ac24822032a>\"\u001b[1;36m, line \u001b[1;32m2\u001b[0m\n\u001b[1;33m    13Friday = 2\u001b[0m\n\u001b[1;37m      ^\u001b[0m\n\u001b[1;31mSyntaxError\u001b[0m\u001b[1;31m:\u001b[0m invalid syntax\n"
     ]
    }
   ],
   "source": [
    "#ข้อ4\n",
    "13Friday = 2\n",
    "print(13Friday)\n",
    "#ไม่ถูกต้อง"
   ]
  },
  {
   "cell_type": "code",
   "execution_count": 6,
   "metadata": {},
   "outputs": [
    {
     "name": "stdout",
     "output_type": "stream",
     "text": [
      "5,92\n"
     ]
    }
   ],
   "source": [
    "#ข้อ5\n",
    "print(\"{},{}\".format(5,92))"
   ]
  },
  {
   "cell_type": "code",
   "execution_count": 5,
   "metadata": {},
   "outputs": [
    {
     "name": "stdout",
     "output_type": "stream",
     "text": [
      "1.0\n"
     ]
    }
   ],
   "source": [
    "#Quiz2\n",
    "#1\n",
    "x = lambda y: y/3\n",
    "print(x(3))"
   ]
  },
  {
   "cell_type": "code",
   "execution_count": 6,
   "metadata": {},
   "outputs": [
    {
     "name": "stdout",
     "output_type": "stream",
     "text": [
      "2.5\n"
     ]
    }
   ],
   "source": [
    "#2\n",
    "def avg(a,b,c,d):\n",
    "    print((a+b+c+d)/4)\n",
    "avg(1,2,3,4)"
   ]
  },
  {
   "cell_type": "code",
   "execution_count": 8,
   "metadata": {},
   "outputs": [
    {
     "name": "stdout",
     "output_type": "stream",
     "text": [
      "2.0\n"
     ]
    }
   ],
   "source": [
    "#3\n",
    "avg2 = lambda x,y,z: (x+y+z)/3\n",
    "print(avg2(1,2,3))"
   ]
  },
  {
   "cell_type": "code",
   "execution_count": 26,
   "metadata": {},
   "outputs": [],
   "source": [
    "#quiz3\n",
    "#1\n",
    "lst = [\"Yada\",\"Klueabvichit\",20]"
   ]
  },
  {
   "cell_type": "code",
   "execution_count": 27,
   "metadata": {},
   "outputs": [
    {
     "name": "stdout",
     "output_type": "stream",
     "text": [
      "['Yada', 'Klueabvichit']\n"
     ]
    }
   ],
   "source": [
    "#2\n",
    "del lst[2]\n",
    "print(lst)"
   ]
  },
  {
   "cell_type": "code",
   "execution_count": 33,
   "metadata": {},
   "outputs": [
    {
     "name": "stdout",
     "output_type": "stream",
     "text": [
      "[10, 'Yada', 'Klueabvichit']\n"
     ]
    }
   ],
   "source": [
    "#3\n",
    "lst.insert(0,10)\n",
    "print(lst)"
   ]
  },
  {
   "cell_type": "code",
   "execution_count": 47,
   "metadata": {},
   "outputs": [
    {
     "name": "stdout",
     "output_type": "stream",
     "text": [
      "[10, 'Yada', 'Klueabvichit', 162, 50]\n"
     ]
    }
   ],
   "source": [
    "#4\n",
    "del lst[3:]\n",
    "lst.append(162)\n",
    "lst.append(50)\n",
    "print(lst)"
   ]
  },
  {
   "cell_type": "code",
   "execution_count": 48,
   "metadata": {},
   "outputs": [
    {
     "name": "stdout",
     "output_type": "stream",
     "text": [
      "[162, 50]\n"
     ]
    }
   ],
   "source": [
    "print(lst[3:])"
   ]
  },
  {
   "cell_type": "code",
   "execution_count": 53,
   "metadata": {},
   "outputs": [
    {
     "data": {
      "text/plain": [
       "6"
      ]
     },
     "execution_count": 53,
     "metadata": {},
     "output_type": "execute_result"
    }
   ],
   "source": [
    "#quiz4\n",
    "#1\n",
    "a = [[[1,3],[3,4]],[5,[5,6]],[7,8]]\n",
    "a[1][1][1]"
   ]
  },
  {
   "cell_type": "code",
   "execution_count": 54,
   "metadata": {},
   "outputs": [],
   "source": [
    "#2\n",
    "lst2 = [[\"a\",\"b\",3],[\"c\",\"d\",10],[\"e\",\"f\",20],[\"g\",\"h\",12]]"
   ]
  },
  {
   "cell_type": "code",
   "execution_count": 55,
   "metadata": {},
   "outputs": [
    {
     "name": "stdout",
     "output_type": "stream",
     "text": [
      "[['a', 'b', 3], ['c', 'd', 10], ['e', 'f', 20]]\n"
     ]
    }
   ],
   "source": [
    "#3\n",
    "del lst2[3]\n",
    "print(lst2)"
   ]
  },
  {
   "cell_type": "code",
   "execution_count": 58,
   "metadata": {},
   "outputs": [
    {
     "name": "stdout",
     "output_type": "stream",
     "text": [
      "[['x', 'y', 25], ['x', 'y', 25], ['x', 'y', 25], ['a', 'b', 3], ['c', 'd', 10], ['e', 'f', 20]]\n"
     ]
    }
   ],
   "source": [
    "#4\n",
    "lst2.insert(0,[\"x\",\"y\",25])\n",
    "print(lst2)"
   ]
  },
  {
   "cell_type": "code",
   "execution_count": 67,
   "metadata": {},
   "outputs": [],
   "source": [
    "lst2 = [[\"a\",\"b\",3],[\"c\",\"d\",10],[\"e\",\"f\",20],[\"g\",\"h\",12]]\n",
    "del lst2[3]\n",
    "lst2.insert(0,[\"x\",\"y\",25])\n"
   ]
  },
  {
   "cell_type": "code",
   "execution_count": 68,
   "metadata": {},
   "outputs": [
    {
     "name": "stdout",
     "output_type": "stream",
     "text": [
      "[['x', 'y', 25], ['a', 'b', 13], ['c', 'd', 10], ['e', 'f', 20]]\n"
     ]
    }
   ],
   "source": [
    "#5\n",
    "lst2[1][2] += 10\n",
    "print(lst2)"
   ]
  },
  {
   "cell_type": "code",
   "execution_count": 73,
   "metadata": {},
   "outputs": [
    {
     "name": "stdout",
     "output_type": "stream",
     "text": [
      "[1, 8, 27, 64, 125, 216, 343, 512, 729, 1000]\n",
      "[1, 8, 27, 64, 125, 216, 343, 512, 729, 1000]\n"
     ]
    }
   ],
   "source": [
    "#quiz5\n",
    "#1\n",
    "lst3 = [1,2,3,4,5,6,7,8,9,10]\n",
    "result = map(lambda x: x**3, lst3)\n",
    "print(list(result))\n",
    "\n",
    "def cube(x):\n",
    "    return x**3\n",
    "print(list(map(cube,lst3)))"
   ]
  },
  {
   "cell_type": "code",
   "execution_count": 79,
   "metadata": {},
   "outputs": [
    {
     "name": "stdout",
     "output_type": "stream",
     "text": [
      "[1, 3, 5, 7, 9]\n",
      "[1, 3, 5, 7, 9]\n"
     ]
    }
   ],
   "source": [
    "#2\n",
    "final = filter(lambda x: (x**2)%2 != 0, lst3)\n",
    "print(list(final))\n",
    "\n",
    "def fnction(x):\n",
    "    return (x**2)%2 != 0\n",
    "print(list(filter(fnction,lst3)))\n"
   ]
  },
  {
   "cell_type": "code",
   "execution_count": 80,
   "metadata": {},
   "outputs": [
    {
     "name": "stdout",
     "output_type": "stream",
     "text": [
      "[1, 3, 5, 7, 9]\n"
     ]
    }
   ],
   "source": [
    "#Quiz6\n",
    "#1\n",
    "lst4 = [1,2,3,4,5]\n",
    "result3 = [(x*2)-1 for x in lst4]\n",
    "print(result3)"
   ]
  },
  {
   "cell_type": "code",
   "execution_count": 81,
   "metadata": {},
   "outputs": [
    {
     "name": "stdout",
     "output_type": "stream",
     "text": [
      "[1, 8, 64, 125, 343, 512, 1000, 1331, 2197]\n"
     ]
    }
   ],
   "source": [
    "#2\n",
    "lst5 = [1,2,3,4,5,6,7,8,9,10,11,12,13]\n",
    "result4 = [x**3 for x in lst5 if x%3 != 0]\n",
    "print(result4)"
   ]
  },
  {
   "cell_type": "code",
   "execution_count": 84,
   "metadata": {},
   "outputs": [
    {
     "name": "stdout",
     "output_type": "stream",
     "text": [
      "65\n",
      "C\n"
     ]
    }
   ],
   "source": [
    "#quiz7\n",
    "score = int(input())\n",
    "if score >= 80:\n",
    "    print(\"A\")\n",
    "elif score >= 70 and score < 80:\n",
    "    print(\"B\")\n",
    "elif score >= 60 and score < 70:\n",
    "    print(\"C\")\n",
    "elif score >= 50 and score < 60:\n",
    "    print(\"D\")\n",
    "else:\n",
    "    print(\"F\")"
   ]
  },
  {
   "cell_type": "code",
   "execution_count": 85,
   "metadata": {},
   "outputs": [
    {
     "name": "stdout",
     "output_type": "stream",
     "text": [
      "[2, 9, 1, 81, 32]\n"
     ]
    }
   ],
   "source": [
    "#quiz8\n",
    "#1\n",
    "A = [1,2,3,4,5]\n",
    "B = [2,3,1,3,2]\n",
    "result5 = map(lambda x,y: y**x, A,B)\n",
    "print(list(result5))"
   ]
  },
  {
   "cell_type": "code",
   "execution_count": 86,
   "metadata": {},
   "outputs": [
    {
     "name": "stdout",
     "output_type": "stream",
     "text": [
      "[('a', 1, 20), ('b', 2, 25), ('c', 3, 30)]\n"
     ]
    }
   ],
   "source": [
    "#2\n",
    "name = [\"a\",\"b\",\"c\"]\n",
    "number = [1,2,3]\n",
    "final_score = [20,25,30]\n",
    "mapped = list(zip(name,number,final_score))\n",
    "print(mapped)"
   ]
  },
  {
   "cell_type": "code",
   "execution_count": 87,
   "metadata": {},
   "outputs": [
    {
     "name": "stdout",
     "output_type": "stream",
     "text": [
      "244140625\n"
     ]
    }
   ],
   "source": [
    "#Quiz9\n",
    "#1\n",
    "from functools import reduce\n",
    "lst6 = [5,2,1,3,2]\n",
    "result6 = reduce(lambda x,y: x**y,lst6)\n",
    "print(result6)\n"
   ]
  },
  {
   "cell_type": "code",
   "execution_count": null,
   "metadata": {},
   "outputs": [],
   "source": [
    "#2\n",
    "lst7 = [1,2,3,4,5,6,7,8,9,10]\n",
    "result7 = reduce(lambd)"
   ]
  }
 ],
 "metadata": {
  "kernelspec": {
   "display_name": "Python 3",
   "language": "python",
   "name": "python3"
  },
  "language_info": {
   "codemirror_mode": {
    "name": "ipython",
    "version": 3
   },
   "file_extension": ".py",
   "mimetype": "text/x-python",
   "name": "python",
   "nbconvert_exporter": "python",
   "pygments_lexer": "ipython3",
   "version": "3.8.3"
  }
 },
 "nbformat": 4,
 "nbformat_minor": 4
}
